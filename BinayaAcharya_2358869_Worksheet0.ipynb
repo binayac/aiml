{
  "nbformat": 4,
  "nbformat_minor": 0,
  "metadata": {
    "colab": {
      "provenance": []
    },
    "kernelspec": {
      "name": "python3",
      "display_name": "Python 3"
    },
    "language_info": {
      "name": "python"
    }
  },
  "cells": [
    {
      "cell_type": "code",
      "execution_count": null,
      "metadata": {
        "id": "DHVshpQzzxLY"
      },
      "outputs": [],
      "source": []
    },
    {
      "cell_type": "markdown",
      "source": [
        "# Exercise on Functions:"
      ],
      "metadata": {
        "id": "xaOCQrwZz7By"
      }
    },
    {
      "cell_type": "markdown",
      "source": [
        "# Task-1 Unit Conversion"
      ],
      "metadata": {
        "id": "v7kcB3emz-uG"
      }
    },
    {
      "cell_type": "code",
      "source": [
        "def convert_length(amount, conversion_type):\n",
        "    \"\"\"\n",
        "    Converts length between meters and feet.\n",
        "    \"\"\"\n",
        "    if conversion_type == 'm_to_ft':\n",
        "        return amount * 3.28084\n",
        "    elif conversion_type == 'ft_to_m':\n",
        "        return amount / 3.28084\n",
        "    else:\n",
        "        raise ValueError(\"Invalid conversion type for length.\")\n",
        "\n",
        "def convert_weight(amount, conversion_type):\n",
        "    \"\"\"\n",
        "    Converts weight between kilograms and pounds.\n",
        "    \"\"\"\n",
        "    if conversion_type == 'kg_to_lbs':\n",
        "        return amount * 2.20462\n",
        "    elif conversion_type == 'lbs_to_kg':\n",
        "        return amount / 2.20462\n",
        "    else:\n",
        "        raise ValueError(\"Invalid conversion type for weight.\")\n",
        "\n",
        "def convert_volume(amount, conversion_type):\n",
        "    \"\"\"\n",
        "    Converts volume between liters and gallons.\n",
        "    \"\"\"\n",
        "    if conversion_type == 'L_to_gal':\n",
        "        return amount * 0.264172\n",
        "    elif conversion_type == 'gal_to_L':\n",
        "        return amount / 0.264172\n",
        "    else:\n",
        "        raise ValueError(\"Invalid conversion type for volume.\")\n",
        "\n",
        "def main():\n",
        "    \"\"\"\n",
        "    Main function to run the unit converter.\n",
        "    \"\"\"\n",
        "    print(\"Welcome to the Unit Converter!\")\n",
        "    print(\"Available conversions:\")\n",
        "    print(\"1. Length: meters to feet, feet to meters\")\n",
        "    print(\"2. Weight: kilograms to pounds, pounds to kilograms\")\n",
        "    print(\"3. Volume: liters to gallons, gallons to liters\")\n",
        "\n",
        "    try:\n",
        "        conversion_category = int(input(\"Choose the type of conversion (1, 2, or 3): \"))\n",
        "        amount = float(input(\"Enter the value to be converted: \"))\n",
        "\n",
        "        if conversion_category == 1:\n",
        "            conversion_type = input(\"Choose conversion (m_to_ft or ft_to_m): \")\n",
        "            result = convert_length(amount, conversion_type)\n",
        "        elif conversion_category == 2:\n",
        "            conversion_type = input(\"Choose conversion (kg_to_lbs or lbs_to_kg): \")\n",
        "            result = convert_weight(amount, conversion_type)\n",
        "        elif conversion_category == 3:\n",
        "            conversion_type = input(\"Choose conversion (L_to_gal or gal_to_L): \")\n",
        "            result = convert_volume(amount, conversion_type)\n",
        "        else:\n",
        "            print(\"Invalid conversion category selected.\")\n",
        "            return\n",
        "\n",
        "        print(f\"Converted value: {result}\")\n",
        "    except ValueError as e:\n",
        "        print(f\"Error: {e}\")\n",
        "\n",
        "if __name__ == \"__main__\":\n",
        "    main()"
      ],
      "metadata": {
        "colab": {
          "base_uri": "https://localhost:8080/"
        },
        "id": "tDQioGGH0E1P",
        "outputId": "b448c1dd-d97f-423a-a7c6-d59466bd648c"
      },
      "execution_count": 23,
      "outputs": [
        {
          "output_type": "stream",
          "name": "stdout",
          "text": [
            "Welcome to the Unit Converter!\n",
            "Available conversions:\n",
            "1. Length: meters to feet, feet to meters\n",
            "2. Weight: kilograms to pounds, pounds to kilograms\n",
            "3. Volume: liters to gallons, gallons to liters\n",
            "Choose the type of conversion (1, 2, or 3): 2\n",
            "Enter the value to be converted: 50\n",
            "Choose conversion (kg_to_lbs or lbs_to_kg): kg_to_lbs\n",
            "Converted value: 110.231\n"
          ]
        }
      ]
    },
    {
      "cell_type": "markdown",
      "source": [
        "# Task-2 Math Operation on List of Numbers"
      ],
      "metadata": {
        "id": "akP4y0ZZ0Knh"
      }
    },
    {
      "cell_type": "code",
      "source": [
        "def get_sum(values):\n",
        "    \"\"\"\n",
        "    Computes the sum of a list of values.\n",
        "    \"\"\"\n",
        "    return sum(values)\n",
        "\n",
        "def get_average(values):\n",
        "    \"\"\"\n",
        "    Computes the average of a list of values.\n",
        "    \"\"\"\n",
        "    return sum(values) / len(values)\n",
        "\n",
        "def get_maximum(values):\n",
        "    \"\"\"\n",
        "    Finds the highest number in a list of values.\n",
        "    \"\"\"\n",
        "    return max(values)\n",
        "\n",
        "def get_minimum(values):\n",
        "    \"\"\"\n",
        "    Finds the lowest number in a list of values.\n",
        "    \"\"\"\n",
        "    return min(values)\n",
        "\n",
        "def main():\n",
        "    \"\"\"\n",
        "    Main function to execute the mathematical operations program.\n",
        "    \"\"\"\n",
        "    print(\"Welcome to the Mathematical Operations Program!\")\n",
        "    print(\"Available operations:\")\n",
        "    print(\"1. Sum\")\n",
        "    print(\"2. Average\")\n",
        "    print(\"3. Maximum\")\n",
        "    print(\"4. Minimum\")\n",
        "\n",
        "    try:\n",
        "        # Prompt user to select an operation\n",
        "        operation_choice = int(input(\"Choose an operation (1, 2, 3, or 4): \"))\n",
        "\n",
        "        # Prompt user to input a list of numbers\n",
        "        values = list(map(float, input(\"Enter numbers separated by spaces: \").split()))\n",
        "\n",
        "        # Ensure the user provided numbers before proceeding\n",
        "        if not values:\n",
        "            print(\"Error: No numbers provided.\")\n",
        "            return\n",
        "\n",
        "        # Perform the selected mathematical operation\n",
        "        if operation_choice == 1:\n",
        "            result = get_sum(values)\n",
        "            print(f\"Sum: {result}\")\n",
        "        elif operation_choice == 2:\n",
        "            result = get_average(values)\n",
        "            print(f\"Average: {result}\")\n",
        "        elif operation_choice == 3:\n",
        "            result = get_maximum(values)\n",
        "            print(f\"Maximum: {result}\")\n",
        "        elif operation_choice == 4:\n",
        "            result = get_minimum(values)\n",
        "            print(f\"Minimum: {result}\")\n",
        "        else:\n",
        "            print(\"Invalid operation choice.\")\n",
        "    except ValueError as e:\n",
        "        # Handle cases where user input is invalid (e.g., non-numeric values)\n",
        "        print(f\"Error: {e}\")\n",
        "    except ZeroDivisionError:\n",
        "        # Handle division by zero when calculating the average of an empty list\n",
        "        print(\"Error: Cannot calculate the average of an empty list.\")\n",
        "\n",
        "# Ensure the script runs only when executed directly, not when imported\n",
        "if __name__ == \"__main__\":\n",
        "    main()"
      ],
      "metadata": {
        "colab": {
          "base_uri": "https://localhost:8080/"
        },
        "id": "soJSA7ug0PjX",
        "outputId": "5a74927b-82d2-42f6-90df-5765ff4d818f"
      },
      "execution_count": 24,
      "outputs": [
        {
          "output_type": "stream",
          "name": "stdout",
          "text": [
            "Welcome to the Mathematical Operations Program!\n",
            "Available operations:\n",
            "1. Sum\n",
            "2. Average\n",
            "3. Maximum\n",
            "4. Minimum\n",
            "Choose an operation (1, 2, 3, or 4): 3\n",
            "Enter numbers separated by spaces: 50 30\n",
            "Maximum: 50.0\n"
          ]
        }
      ]
    },
    {
      "cell_type": "markdown",
      "source": [
        "# Exercise on List Manipulation:"
      ],
      "metadata": {
        "id": "YJKYWj8q0SfK"
      }
    },
    {
      "cell_type": "code",
      "source": [
        "def extract_every_other(lst):\n",
        "    \"\"\"\n",
        "    Selects every second element from the given list, starting with the first.\n",
        "\n",
        "    Parameters:\n",
        "    lst (list): The list to extract elements from.\n",
        "\n",
        "    Returns:\n",
        "    list: A new list containing every second element from the original list.\n",
        "    \"\"\"\n",
        "    return lst[::2]  # Uses slicing to pick every alternate element\n",
        "\n",
        "extract_every_other([1, 2, 3, 4, 5, 6])"
      ],
      "metadata": {
        "colab": {
          "base_uri": "https://localhost:8080/"
        },
        "id": "Y7c0_SBH0VVI",
        "outputId": "4d358475-1bda-4333-b5da-735f347f3b86"
      },
      "execution_count": 28,
      "outputs": [
        {
          "output_type": "execute_result",
          "data": {
            "text/plain": [
              "[1, 3, 5]"
            ]
          },
          "metadata": {},
          "execution_count": 28
        }
      ]
    },
    {
      "cell_type": "code",
      "source": [
        "def get_sublist(lst, start, end):\n",
        "    \"\"\"\n",
        "    Extracts a portion of the list from the specified start index to the end index, inclusive.\n",
        "\n",
        "    Parameters:\n",
        "    lst (list): The list from which to extract the sublist.\n",
        "    start (int): The index at which the sublist begins.\n",
        "    end (int): The index at which the sublist ends.\n",
        "\n",
        "    Returns:\n",
        "    list: A new list containing elements from the start index to the end index (inclusive).\n",
        "    \"\"\"\n",
        "    return lst[start:end+1]  # Slicing includes the end index by adding 1\n",
        "\n",
        "get_sublist([1, 2, 3, 4, 5, 6], 2, 4)"
      ],
      "metadata": {
        "colab": {
          "base_uri": "https://localhost:8080/"
        },
        "id": "IdCGQ_L20Xjv",
        "outputId": "66dfccdc-8357-461f-dcb4-a56f398ae43b"
      },
      "execution_count": 29,
      "outputs": [
        {
          "output_type": "execute_result",
          "data": {
            "text/plain": [
              "[3, 4, 5]"
            ]
          },
          "metadata": {},
          "execution_count": 29
        }
      ]
    },
    {
      "cell_type": "code",
      "source": [
        "def reverse_list(lst):\n",
        "    \"\"\"\n",
        "    Returns a reversed version of the given list using slicing.\n",
        "\n",
        "    Parameters:\n",
        "    lst (list): The list to be reversed.\n",
        "\n",
        "    Returns:\n",
        "    list: A new list with elements in reverse order.\n",
        "    \"\"\"\n",
        "    return lst[::-1]  # Uses slicing with a step of -1 to reverse the list\n",
        "\n",
        "reverse_list([1, 2, 3, 4, 5])"
      ],
      "metadata": {
        "colab": {
          "base_uri": "https://localhost:8080/"
        },
        "id": "Eu3Ys3bu0Z7m",
        "outputId": "3ecc77b7-4381-4ba5-b91d-02a8ed63666f"
      },
      "execution_count": 30,
      "outputs": [
        {
          "output_type": "execute_result",
          "data": {
            "text/plain": [
              "[5, 4, 3, 2, 1]"
            ]
          },
          "metadata": {},
          "execution_count": 30
        }
      ]
    },
    {
      "cell_type": "code",
      "source": [
        "def remove_first_last(lst):\n",
        "    \"\"\"\n",
        "    Returns a new list with the first and last elements removed.\n",
        "\n",
        "    Parameters:\n",
        "    lst (list): The original list.\n",
        "\n",
        "    Returns:\n",
        "    list: A modified list excluding the first and last elements.\n",
        "    \"\"\"\n",
        "    return lst[1:-1]  # Slices the list to exclude the first and last elements\n",
        "\n",
        "remove_first_last([1, 2, 3, 4, 5])"
      ],
      "metadata": {
        "colab": {
          "base_uri": "https://localhost:8080/"
        },
        "id": "3ltKqbdT0cPt",
        "outputId": "65faffe6-ef46-46e7-b10b-c4627301fcac"
      },
      "execution_count": 31,
      "outputs": [
        {
          "output_type": "execute_result",
          "data": {
            "text/plain": [
              "[2, 3, 4]"
            ]
          },
          "metadata": {},
          "execution_count": 31
        }
      ]
    },
    {
      "cell_type": "code",
      "source": [
        "def get_first_n(lst, n):\n",
        "    \"\"\"\n",
        "    Returns a new list containing only the first n elements.\n",
        "\n",
        "    Parameters:\n",
        "    lst (list): The original list.\n",
        "    n (int): The number of elements to include.\n",
        "\n",
        "    Returns:\n",
        "    list: A list containing the first n elements.\n",
        "    \"\"\"\n",
        "    return lst[:n]  # Extracts elements from the start up to index n\n",
        "\n",
        "get_first_n([1, 2, 3, 4, 5], 3)"
      ],
      "metadata": {
        "colab": {
          "base_uri": "https://localhost:8080/"
        },
        "id": "wEtEc8KK0eqO",
        "outputId": "21f1410e-0b16-4b0f-e870-ec69ffbbb7ff"
      },
      "execution_count": 32,
      "outputs": [
        {
          "output_type": "execute_result",
          "data": {
            "text/plain": [
              "[1, 2, 3]"
            ]
          },
          "metadata": {},
          "execution_count": 32
        }
      ]
    },
    {
      "cell_type": "code",
      "source": [
        "def get_last_n(lst, n):\n",
        "    \"\"\"\n",
        "    Returns a new list containing only the last n elements.\n",
        "\n",
        "    Parameters:\n",
        "    lst (list): The original list.\n",
        "    n (int): The number of elements to include from the end.\n",
        "\n",
        "    Returns:\n",
        "    list: A list containing the last n elements.\n",
        "    \"\"\"\n",
        "    return lst[-n:]  # Extracts the last n elements using slicing\n",
        "\n",
        "get_last_n([1, 2, 3, 4, 5], 2)"
      ],
      "metadata": {
        "colab": {
          "base_uri": "https://localhost:8080/"
        },
        "id": "9dnzVqKu0hW2",
        "outputId": "245336e9-0f63-43e2-90b3-cb8b7d41f93e"
      },
      "execution_count": 33,
      "outputs": [
        {
          "output_type": "execute_result",
          "data": {
            "text/plain": [
              "[4, 5]"
            ]
          },
          "metadata": {},
          "execution_count": 33
        }
      ]
    },
    {
      "cell_type": "code",
      "source": [
        "def reverse_skip(lst):\n",
        "    \"\"\"\n",
        "    Creates a new list by taking every second element from the input list, starting from the second-to-last one and moving backwards.\n",
        "\n",
        "    Parameters:\n",
        "    lst (list): The original list to process.\n",
        "\n",
        "    Returns:\n",
        "    list: A new list with every other element starting from the second-to-last, going in reverse order.\n",
        "    \"\"\"\n",
        "    return lst[-2::-2]\n",
        "\n",
        "reverse_skip([1, 2, 3, 4, 5, 6])"
      ],
      "metadata": {
        "colab": {
          "base_uri": "https://localhost:8080/"
        },
        "id": "PjSQXhLS0lHB",
        "outputId": "4dea7a67-75c1-4ef9-87fd-1d3354c01e1a"
      },
      "execution_count": 34,
      "outputs": [
        {
          "output_type": "execute_result",
          "data": {
            "text/plain": [
              "[5, 3, 1]"
            ]
          },
          "metadata": {},
          "execution_count": 34
        }
      ]
    },
    {
      "cell_type": "code",
      "source": [],
      "metadata": {
        "id": "ssmsnuzo0nEB"
      },
      "execution_count": null,
      "outputs": []
    },
    {
      "cell_type": "markdown",
      "source": [
        "# Exercise on Nested List"
      ],
      "metadata": {
        "id": "fkHFUptT0nhd"
      }
    },
    {
      "cell_type": "code",
      "source": [
        "def flatten(lst):\n",
        "    \"\"\"\n",
        "    Converts a nested list into a single, flat list.\n",
        "\n",
        "    Parameters:\n",
        "    lst (list): The list that may contain other lists within it.\n",
        "\n",
        "    Returns:\n",
        "    list: A new list that contains all elements from the nested list, but with no nested structures.\n",
        "    \"\"\"\n",
        "    flat_list = []\n",
        "    for item in lst:\n",
        "        if isinstance(item, list):\n",
        "            flat_list.extend(flatten(item))\n",
        "        else:\n",
        "            flat_list.append(item)\n",
        "    return flat_list\n",
        "\n",
        "flatten([[1, 2], [3, [4, 5]], 6])"
      ],
      "metadata": {
        "colab": {
          "base_uri": "https://localhost:8080/"
        },
        "id": "EayC7h8K0qYI",
        "outputId": "1c7464be-50cc-4a89-c2a2-e5d17b40008a"
      },
      "execution_count": 35,
      "outputs": [
        {
          "output_type": "execute_result",
          "data": {
            "text/plain": [
              "[1, 2, 3, 4, 5, 6]"
            ]
          },
          "metadata": {},
          "execution_count": 35
        }
      ]
    },
    {
      "cell_type": "code",
      "source": [
        "def access_nested_element(lst, indices):\n",
        "    \"\"\"\n",
        "    Retrieves an element from a nested list based on a sequence of indices.\n",
        "\n",
        "    Parameters:\n",
        "    lst (list): The nested list from which the element will be accessed.\n",
        "    indices (list): A list of indices specifying the path to the desired element.\n",
        "\n",
        "    Returns:\n",
        "    any: The element found at the location defined by the indices.\n",
        "    \"\"\"\n",
        "    for index in indices:\n",
        "        lst = lst[index]\n",
        "    return lst\n",
        "\n",
        "access_nested_element([[1, 2, 3], [4, 5, 6], [7, 8, 9]], [1, 2])"
      ],
      "metadata": {
        "colab": {
          "base_uri": "https://localhost:8080/"
        },
        "id": "ZQEK56h60svQ",
        "outputId": "7867e8ce-20dd-47da-9bb1-cd9fd9d4c563"
      },
      "execution_count": 36,
      "outputs": [
        {
          "output_type": "execute_result",
          "data": {
            "text/plain": [
              "6"
            ]
          },
          "metadata": {},
          "execution_count": 36
        }
      ]
    },
    {
      "cell_type": "code",
      "source": [
        "def sum_nested(lst):\n",
        "    \"\"\"\n",
        "    Computes the total of all numeric values in a nested list.\n",
        "\n",
        "    Parameters:\n",
        "    lst (list): The list that may contain nested lists with numbers.\n",
        "\n",
        "    Returns:\n",
        "    float: The sum of all numeric elements in the list, including those in nested structures.\n",
        "    \"\"\"\n",
        "    return sum(flatten(lst))\n",
        "\n",
        "sum_nested([[1, 2], [3, [4, 5]], 6])"
      ],
      "metadata": {
        "colab": {
          "base_uri": "https://localhost:8080/"
        },
        "id": "LS7ocdHY0vL3",
        "outputId": "09ae068c-024f-4c00-cd8d-6eabd21f714f"
      },
      "execution_count": 37,
      "outputs": [
        {
          "output_type": "execute_result",
          "data": {
            "text/plain": [
              "21"
            ]
          },
          "metadata": {},
          "execution_count": 37
        }
      ]
    },
    {
      "cell_type": "code",
      "source": [
        "def remove_element(lst, elem):\n",
        "    \"\"\"\n",
        "    Removes every instance of a specified element from a nested list.\n",
        "\n",
        "    Parameters:\n",
        "    lst (list): The list that may contain nested sublists.\n",
        "    elem (any): The element to be removed.\n",
        "\n",
        "    Returns:\n",
        "    list: A new list with all occurrences of the specified element removed.\n",
        "    \"\"\"\n",
        "    return [remove_element(item, elem) if isinstance(item, list) else item for item in lst if item != elem]\n",
        "\n",
        "remove_element([[1, 2], [3, 2], [4, 5]], 2)"
      ],
      "metadata": {
        "colab": {
          "base_uri": "https://localhost:8080/"
        },
        "id": "i4OL5i2j0xLd",
        "outputId": "f3056ba5-5f7a-4ac5-b103-cf93c5080d1a"
      },
      "execution_count": 38,
      "outputs": [
        {
          "output_type": "execute_result",
          "data": {
            "text/plain": [
              "[[1], [3], [4, 5]]"
            ]
          },
          "metadata": {},
          "execution_count": 38
        }
      ]
    },
    {
      "cell_type": "code",
      "source": [
        "def find_max(lst):\n",
        "    \"\"\"\n",
        "    Identifies the largest element in a nested list.\n",
        "\n",
        "    Parameters:\n",
        "    lst (list): The list that may contain nested sublists.\n",
        "\n",
        "    Returns:\n",
        "    float: The largest element found in the list.\n",
        "    \"\"\"\n",
        "    return max(flatten(lst))\n",
        "\n",
        "find_max([[1, 2], [3, [4, 5]], 6])"
      ],
      "metadata": {
        "colab": {
          "base_uri": "https://localhost:8080/"
        },
        "id": "Wr0RRA8A0zb6",
        "outputId": "aafceb23-c5d4-40be-85e2-8ea9a0e81a13"
      },
      "execution_count": 39,
      "outputs": [
        {
          "output_type": "execute_result",
          "data": {
            "text/plain": [
              "6"
            ]
          },
          "metadata": {},
          "execution_count": 39
        }
      ]
    },
    {
      "cell_type": "code",
      "source": [
        "def count_occurrences(lst, elem):\n",
        "    \"\"\"\n",
        "    Determines the number of times a particular element appears in a nested list.\n",
        "\n",
        "    Parameters:\n",
        "    lst (list): The list which may include nested sublists.\n",
        "    elem (any): The element whose occurrences are to be counted.\n",
        "\n",
        "    Returns:\n",
        "    int: The total count of occurrences of the specified element.\n",
        "    \"\"\"\n",
        "    return flatten(lst).count(elem)\n",
        "\n",
        "count_occurrences([[1, 2], [2, 3], [2, 4]], 2)"
      ],
      "metadata": {
        "colab": {
          "base_uri": "https://localhost:8080/"
        },
        "id": "r0_rM02x01g2",
        "outputId": "1240855b-6488-4693-bf35-ba148892f547"
      },
      "execution_count": 40,
      "outputs": [
        {
          "output_type": "execute_result",
          "data": {
            "text/plain": [
              "3"
            ]
          },
          "metadata": {},
          "execution_count": 40
        }
      ]
    },
    {
      "cell_type": "code",
      "source": [
        "def deep_flatten(lst):\n",
        "    \"\"\"\n",
        "    Converts a deeply nested list into a single, flat list.\n",
        "\n",
        "    Parameters:\n",
        "    lst (list): The list with multiple levels of nesting.\n",
        "\n",
        "    Returns:\n",
        "    list: A flattened list containing all the elements from the nested structure.\n",
        "    \"\"\"\n",
        "    return flatten(lst)\n",
        "\n",
        "deep_flatten([[[1, 2], [3, 4]], [[5, 6], [7, 8]]])"
      ],
      "metadata": {
        "colab": {
          "base_uri": "https://localhost:8080/"
        },
        "id": "fci0P6JL03ev",
        "outputId": "202eef54-96d2-473e-bcd2-8cd8f60592dc"
      },
      "execution_count": 41,
      "outputs": [
        {
          "output_type": "execute_result",
          "data": {
            "text/plain": [
              "[1, 2, 3, 4, 5, 6, 7, 8]"
            ]
          },
          "metadata": {},
          "execution_count": 41
        }
      ]
    },
    {
      "cell_type": "code",
      "source": [
        "def average_nested(lst):\n",
        "    \"\"\"\n",
        "    Computes the average value of all elements in a nested list.\n",
        "\n",
        "    Parameters:\n",
        "    lst (list): The list that may contain nested sublists with numerical elements.\n",
        "\n",
        "    Returns:\n",
        "    float: The average of all elements in the flattened list.\n",
        "    \"\"\"\n",
        "    flat_list = flatten(lst)\n",
        "    return sum(flat_list) / len(flat_list)\n",
        "\n",
        "average_nested([[1, 2], [3, 4], [5, 6]])"
      ],
      "metadata": {
        "colab": {
          "base_uri": "https://localhost:8080/"
        },
        "id": "eUkYJXwP06kJ",
        "outputId": "9d5cfacd-d347-416a-ca82-f8ad7a61ef04"
      },
      "execution_count": 42,
      "outputs": [
        {
          "output_type": "execute_result",
          "data": {
            "text/plain": [
              "3.5"
            ]
          },
          "metadata": {},
          "execution_count": 42
        }
      ]
    },
    {
      "cell_type": "markdown",
      "source": [
        "# Basic Vector and Matrix Operation with Numpy."
      ],
      "metadata": {
        "id": "fEHIRQkC0822"
      }
    },
    {
      "cell_type": "markdown",
      "source": [
        "# Problem - 1: Array Creation:"
      ],
      "metadata": {
        "id": "MeR9RDM00-6p"
      }
    },
    {
      "cell_type": "code",
      "source": [
        "import numpy as np\n",
        "\n",
        "# 1. Create an uninitialized 2x2 array\n",
        "empty_array = np.empty((2, 2))\n",
        "print(\"Uninitialized 2x2 Array:\\n\", empty_array)\n",
        "print(\"---------------\")\n",
        "\n",
        "# 2. Create a 4x2 array filled with ones\n",
        "ones_array = np.ones((4, 2))\n",
        "print(\"4x2 Array Filled with Ones:\\n\", ones_array)\n",
        "print(\"---------------\")\n",
        "\n",
        "# 3. Generate a 3x3 array where each element is set to 5\n",
        "fill_value_array = np.full((3, 3), 5)  # Shape: 3x3, Fill Value: 5\n",
        "print(\"3x3 Array Filled with 5s:\\n\", fill_value_array)\n",
        "print(\"---------------\")\n",
        "\n",
        "# 4. Create an array of zeros with the same shape and type as a given array\n",
        "given_array = np.array([[1, 2], [3, 4]])\n",
        "zeros_like_array = np.zeros_like(given_array)\n",
        "print(\"Zeros Array Matching the Shape of the Given Array:\\n\", zeros_like_array)\n",
        "print(\"---------------\")\n",
        "\n",
        "# 5. Create an array of ones with the same shape and type as a given array\n",
        "ones_like_array = np.ones_like(given_array)\n",
        "print(\"Ones Array Matching the Shape of the Given Array:\\n\", ones_like_array)\n",
        "print(\"---------------\")\n",
        "\n",
        "# 6. Convert a Python list into a NumPy array\n",
        "new_list = [1, 2, 3, 4]\n",
        "numpy_array = np.array(new_list)\n",
        "print(\"List Converted to NumPy Array:\\n\", numpy_array)"
      ],
      "metadata": {
        "colab": {
          "base_uri": "https://localhost:8080/"
        },
        "id": "y7gV5xKA1BVW",
        "outputId": "7d3b5e9a-74e4-4d01-f8e7-2b2da6b96f7b"
      },
      "execution_count": 43,
      "outputs": [
        {
          "output_type": "stream",
          "name": "stdout",
          "text": [
            "Uninitialized 2x2 Array:\n",
            " [[2.2687441e-316 0.0000000e+000]\n",
            " [4.9406565e-324            nan]]\n",
            "---------------\n",
            "4x2 Array Filled with Ones:\n",
            " [[1. 1.]\n",
            " [1. 1.]\n",
            " [1. 1.]\n",
            " [1. 1.]]\n",
            "---------------\n",
            "3x3 Array Filled with 5s:\n",
            " [[5 5 5]\n",
            " [5 5 5]\n",
            " [5 5 5]]\n",
            "---------------\n",
            "Zeros Array Matching the Shape of the Given Array:\n",
            " [[0 0]\n",
            " [0 0]]\n",
            "---------------\n",
            "Ones Array Matching the Shape of the Given Array:\n",
            " [[1 1]\n",
            " [1 1]]\n",
            "---------------\n",
            "List Converted to NumPy Array:\n",
            " [1 2 3 4]\n"
          ]
        }
      ]
    },
    {
      "cell_type": "markdown",
      "source": [
        "# Problem - 2: Array Manipulation: Numerical Ranges and Array indexing:"
      ],
      "metadata": {
        "id": "MfDeThde1EiR"
      }
    },
    {
      "cell_type": "code",
      "source": [
        "# 1. Generate an array of values from 10 to 49\n",
        "range_array = np.arange(10, 50)\n",
        "print(\"Array with Values from 10 to 49:\\n\", range_array)\n",
        "print(\"---------------\")\n",
        "\n",
        "# 2. Create a 3x3 matrix containing values from 0 to 8\n",
        "matrix_3x3 = np.arange(9).reshape(3, 3)\n",
        "print(\"3x3 Matrix with Values from 0 to 8:\\n\", matrix_3x3)\n",
        "print(\"---------------\")\n",
        "\n",
        "# 3. Generate a 3x3 identity matrix\n",
        "identity_matrix = np.eye(3)\n",
        "print(\"3x3 Identity Matrix:\\n\", identity_matrix)\n",
        "print(\"---------------\")\n",
        "\n",
        "# 4. Create an array of 30 random numbers and calculate the mean\n",
        "random_array = np.random.random(30)\n",
        "mean_value = random_array.mean()\n",
        "print(\"Random Array of Size 30:\\n\", random_array)\n",
        "print(\"Mean of Random Array:\", mean_value)\n",
        "print(\"---------------\")\n",
        "\n",
        "# 5. Generate a 10x10 array of random numbers and find the minimum and maximum values\n",
        "random_10x10 = np.random.random((10, 10))\n",
        "min_value = random_10x10.min()\n",
        "max_value = random_10x10.max()\n",
        "print(\"10x10 Random Array:\\n\", random_10x10)\n",
        "print(\"Minimum Value:\", min_value)\n",
        "print(\"Maximum Value:\", max_value)\n",
        "print(\"---------------\")\n",
        "\n",
        "# 6. Create an array of zeros with size 10 and set the 5th element to 1\n",
        "zero_array = np.zeros(10)\n",
        "zero_array[4] = 1  # Indexing starts at 0\n",
        "print(\"Zero Array with 5th Element Replaced:\\n\", zero_array)\n",
        "print(\"---------------\")\n",
        "\n",
        "# 7. Reverse the order of elements in an array\n",
        "arr = np.array([1, 2, 0, 0, 4, 0])\n",
        "reversed_arr = arr[::-1]\n",
        "print(\"Reversed Array:\\n\", reversed_arr)\n",
        "print(\"---------------\")\n",
        "\n",
        "# 8. Create a 2D array with 1s on the border and 0s inside\n",
        "border_array = np.ones((5, 5))\n",
        "border_array[1:-1, 1:-1] = 0\n",
        "print(\"2D Array with 1s on Border and 0s Inside:\\n\", border_array)\n",
        "print(\"---------------\")\n",
        "\n",
        "# 9. Create an 8x8 array with a checkerboard pattern\n",
        "checkerboard = np.zeros((8, 8))\n",
        "checkerboard[1::2, ::2] = 1\n",
        "checkerboard[::2, 1::2] = 1\n",
        "print(\"8x8 Checkerboard Pattern:\\n\", checkerboard)"
      ],
      "metadata": {
        "colab": {
          "base_uri": "https://localhost:8080/"
        },
        "id": "Tc8aCP851IeY",
        "outputId": "8547f8eb-a518-4f85-9155-4f71f886718f"
      },
      "execution_count": 44,
      "outputs": [
        {
          "output_type": "stream",
          "name": "stdout",
          "text": [
            "Array with Values from 10 to 49:\n",
            " [10 11 12 13 14 15 16 17 18 19 20 21 22 23 24 25 26 27 28 29 30 31 32 33\n",
            " 34 35 36 37 38 39 40 41 42 43 44 45 46 47 48 49]\n",
            "---------------\n",
            "3x3 Matrix with Values from 0 to 8:\n",
            " [[0 1 2]\n",
            " [3 4 5]\n",
            " [6 7 8]]\n",
            "---------------\n",
            "3x3 Identity Matrix:\n",
            " [[1. 0. 0.]\n",
            " [0. 1. 0.]\n",
            " [0. 0. 1.]]\n",
            "---------------\n",
            "Random Array of Size 30:\n",
            " [0.82528935 0.3195489  0.23918599 0.56804416 0.90994172 0.75203079\n",
            " 0.57684563 0.64618268 0.40668607 0.3974881  0.38708827 0.935086\n",
            " 0.91400105 0.42957147 0.72190843 0.07258931 0.05781931 0.77902722\n",
            " 0.26421148 0.14865207 0.67856608 0.02051477 0.98812696 0.63241064\n",
            " 0.00876163 0.46000235 0.54357517 0.37092757 0.18499882 0.1316452 ]\n",
            "Mean of Random Array: 0.4790242405549907\n",
            "---------------\n",
            "10x10 Random Array:\n",
            " [[0.35640122 0.23794715 0.89803198 0.4756976  0.29098315 0.08330996\n",
            "  0.78630847 0.42504984 0.5709294  0.35400671]\n",
            " [0.79146538 0.66862825 0.00891532 0.2930531  0.16764152 0.55593998\n",
            "  0.5297533  0.91201591 0.35728735 0.07570229]\n",
            " [0.92455909 0.77705524 0.60273448 0.36918451 0.98997899 0.20275744\n",
            "  0.30052102 0.25220512 0.95483065 0.40672259]\n",
            " [0.66936084 0.1185471  0.98525228 0.61192993 0.16722873 0.89073004\n",
            "  0.74170601 0.42147118 0.52075739 0.1206943 ]\n",
            " [0.56722354 0.39067921 0.1100557  0.34005056 0.11252606 0.20695213\n",
            "  0.6614127  0.53897446 0.33868536 0.37455054]\n",
            " [0.97884688 0.97254571 0.43206986 0.61130192 0.54402252 0.07536134\n",
            "  0.64964081 0.11279057 0.31967138 0.52847272]\n",
            " [0.77391972 0.19214581 0.52638732 0.73922699 0.86528209 0.63474996\n",
            "  0.38782833 0.68940458 0.35017578 0.04293427]\n",
            " [0.41633862 0.48747212 0.63087156 0.59815686 0.54508302 0.34580261\n",
            "  0.46386959 0.52653919 0.88062956 0.41161345]\n",
            " [0.88151642 0.70466128 0.40411141 0.2723551  0.56711715 0.63802518\n",
            "  0.27713594 0.68876571 0.30774386 0.35663524]\n",
            " [0.01662388 0.60563879 0.57936723 0.44695315 0.95919327 0.68391887\n",
            "  0.67680221 0.84728115 0.7250304  0.9650737 ]]\n",
            "Minimum Value: 0.00891531569699322\n",
            "Maximum Value: 0.989978993219122\n",
            "---------------\n",
            "Zero Array with 5th Element Replaced:\n",
            " [0. 0. 0. 0. 1. 0. 0. 0. 0. 0.]\n",
            "---------------\n",
            "Reversed Array:\n",
            " [0 4 0 0 2 1]\n",
            "---------------\n",
            "2D Array with 1s on Border and 0s Inside:\n",
            " [[1. 1. 1. 1. 1.]\n",
            " [1. 0. 0. 0. 1.]\n",
            " [1. 0. 0. 0. 1.]\n",
            " [1. 0. 0. 0. 1.]\n",
            " [1. 1. 1. 1. 1.]]\n",
            "---------------\n",
            "8x8 Checkerboard Pattern:\n",
            " [[0. 1. 0. 1. 0. 1. 0. 1.]\n",
            " [1. 0. 1. 0. 1. 0. 1. 0.]\n",
            " [0. 1. 0. 1. 0. 1. 0. 1.]\n",
            " [1. 0. 1. 0. 1. 0. 1. 0.]\n",
            " [0. 1. 0. 1. 0. 1. 0. 1.]\n",
            " [1. 0. 1. 0. 1. 0. 1. 0.]\n",
            " [0. 1. 0. 1. 0. 1. 0. 1.]\n",
            " [1. 0. 1. 0. 1. 0. 1. 0.]]\n"
          ]
        }
      ]
    },
    {
      "cell_type": "markdown",
      "source": [
        "# Problem - 3: Array Operations:"
      ],
      "metadata": {
        "id": "xtNqMJin1K-1"
      }
    },
    {
      "cell_type": "code",
      "source": [
        "# Given arrays\n",
        "x = np.array([[1, 2], [3, 5]])\n",
        "y = np.array([[5, 6], [7, 8]])\n",
        "v = np.array([9, 10])\n",
        "w = np.array([11, 12])\n",
        "\n",
        "# 1. Add the two arrays element-wise\n",
        "add_result = x + y\n",
        "print(\"Addition of x and y:\\n\", add_result)\n",
        "print(\"---------------\")\n",
        "\n",
        "# 2. Subtract the two arrays element-wise\n",
        "subtract_result = x - y\n",
        "print(\"Subtraction of x and y:\\n\", subtract_result)\n",
        "print(\"---------------\")\n",
        "\n",
        "# 3. Multiply each element of the array by an integer\n",
        "multiply_result = x * 2\n",
        "print(\"Multiplication of x by 2:\\n\", multiply_result)\n",
        "print(\"---------------\")\n",
        "\n",
        "# 4. Calculate the square of each element in the array\n",
        "square_result = np.square(x)\n",
        "print(\"Square of Each Element in x:\\n\", square_result)\n",
        "print(\"---------------\")\n",
        "\n",
        "# 5. Compute the dot product of different arrays\n",
        "dot_vw = np.dot(v, w)\n",
        "dot_xv = np.dot(x, v)\n",
        "dot_xy = np.dot(x, y)\n",
        "print(\"Dot Product of v and w:\", dot_vw)\n",
        "print(\"Dot Product of x and v:\", dot_xv)\n",
        "print(\"Dot Product of x and y:\\n\", dot_xy)\n",
        "print(\"---------------\")\n",
        "\n",
        "# 6. Concatenate arrays along rows (axis=0) and along columns (axis=1)\n",
        "concatenate_rows = np.concatenate((x, y), axis=0)\n",
        "concatenate_columns = np.vstack((v, w))\n",
        "print(\"Concatenate x and y along rows:\\n\", concatenate_rows)\n",
        "print(\"Concatenate v and w along columns:\\n\", concatenate_columns)\n",
        "print(\"---------------\")\n",
        "\n",
        "# 7. Try concatenating x and v (will raise an error due to shape mismatch)\n",
        "try:\n",
        "    concatenate_xv = np.concatenate((x, v))\n",
        "except ValueError as e:\n",
        "    print(\"Error:\", e)\n",
        "    print(\"Explanation: Shapes of x (2x2) and v (2,) are not compatible for concatenation.\")"
      ],
      "metadata": {
        "colab": {
          "base_uri": "https://localhost:8080/"
        },
        "id": "A68bp6m31N6f",
        "outputId": "7e3249f8-6e72-40b2-bfa6-e74d2edd8c50"
      },
      "execution_count": 45,
      "outputs": [
        {
          "output_type": "stream",
          "name": "stdout",
          "text": [
            "Addition of x and y:\n",
            " [[ 6  8]\n",
            " [10 13]]\n",
            "---------------\n",
            "Subtraction of x and y:\n",
            " [[-4 -4]\n",
            " [-4 -3]]\n",
            "---------------\n",
            "Multiplication of x by 2:\n",
            " [[ 2  4]\n",
            " [ 6 10]]\n",
            "---------------\n",
            "Square of Each Element in x:\n",
            " [[ 1  4]\n",
            " [ 9 25]]\n",
            "---------------\n",
            "Dot Product of v and w: 219\n",
            "Dot Product of x and v: [29 77]\n",
            "Dot Product of x and y:\n",
            " [[19 22]\n",
            " [50 58]]\n",
            "---------------\n",
            "Concatenate x and y along rows:\n",
            " [[1 2]\n",
            " [3 5]\n",
            " [5 6]\n",
            " [7 8]]\n",
            "Concatenate v and w along columns:\n",
            " [[ 9 10]\n",
            " [11 12]]\n",
            "---------------\n",
            "Error: all the input arrays must have same number of dimensions, but the array at index 0 has 2 dimension(s) and the array at index 1 has 1 dimension(s)\n",
            "Explanation: Shapes of x (2x2) and v (2,) are not compatible for concatenation.\n"
          ]
        }
      ]
    },
    {
      "cell_type": "markdown",
      "source": [
        "# Problem - 4: Matrix Operations:"
      ],
      "metadata": {
        "id": "NoAwap7i1Qac"
      }
    },
    {
      "cell_type": "code",
      "source": [
        "# Given arrays\n",
        "A = np.array([[3, 4], [7, 8]])\n",
        "B = np.array([[5, 3], [2, 1]])\n",
        "\n",
        "# 1. Prove A.A^-1 = I (Identity Matrix)\n",
        "A_inv = np.linalg.inv(A)  # Inverse of A\n",
        "identity_check = np.dot(A, A_inv)  # A * A^-1 should give the identity matrix\n",
        "print(\"A.A^-1:\\n\", identity_check)\n",
        "print(\"---------------\")\n",
        "\n",
        "# 2. Prove AB != BA (Matrix multiplication is not commutative)\n",
        "AB = np.dot(A, B)  # Multiply A and B\n",
        "BA = np.dot(B, A)  # Multiply B and A\n",
        "print(\"AB:\\n\", AB)\n",
        "print(\"BA:\\n\", BA)\n",
        "print(\"Is AB != BA?\", not np.array_equal(AB, BA))  # Check if AB is not equal to BA\n",
        "print(\"---------------\")\n",
        "\n",
        "# 3. Prove (AB)^T = B^T A^T (Transpose of a product of matrices)\n",
        "AB_transpose = AB.T  # Transpose of AB\n",
        "B_transpose_A_transpose = np.dot(B.T, A.T)  # B^T * A^T\n",
        "print(\"(AB)^T:\\n\", AB_transpose)\n",
        "print(\"B^T A^T:\\n\", B_transpose_A_transpose)\n",
        "print(\"Is (AB)^T == B^T A^T?\", np.array_equal(AB_transpose, B_transpose_A_transpose))\n",
        "print(\"---------------\")\n",
        "\n",
        "# Solve the system of linear equations:\n",
        "# 2x - 3y + z = -1\n",
        "# x - y + 2z = -3\n",
        "# 3x + y - z = 9\n",
        "\n",
        "# Matrix form: AX = B\n",
        "A_eq = np.array([[2, -3, 1], [1, -1, 2], [3, 1, -1]])  # Coefficient matrix\n",
        "B_eq = np.array([-1, -3, 9])  # Right-hand side vector\n",
        "print(\"---------------\")\n",
        "\n",
        "# Solve using inverse method\n",
        "X = np.dot(np.linalg.inv(A_eq), B_eq)  # Using matrix inverse\n",
        "print(\"Solution using Inverse Method:\", X)\n",
        "print(\"---------------\")\n",
        "\n",
        "# Solve using np.linalg.solve\n",
        "X_solve = np.linalg.solve(A_eq, B_eq)  # Using np.linalg.solve to directly solve the system\n",
        "print(\"Solution using np.linalg.solve:\", X_solve)"
      ],
      "metadata": {
        "colab": {
          "base_uri": "https://localhost:8080/"
        },
        "id": "l5aJIBG-1UK_",
        "outputId": "168c4336-e9ac-4517-91e0-cf3e952fd504"
      },
      "execution_count": 46,
      "outputs": [
        {
          "output_type": "stream",
          "name": "stdout",
          "text": [
            "A.A^-1:\n",
            " [[1.00000000e+00 0.00000000e+00]\n",
            " [1.77635684e-15 1.00000000e+00]]\n",
            "---------------\n",
            "AB:\n",
            " [[23 13]\n",
            " [51 29]]\n",
            "BA:\n",
            " [[36 44]\n",
            " [13 16]]\n",
            "Is AB != BA? True\n",
            "---------------\n",
            "(AB)^T:\n",
            " [[23 51]\n",
            " [13 29]]\n",
            "B^T A^T:\n",
            " [[23 51]\n",
            " [13 29]]\n",
            "Is (AB)^T == B^T A^T? True\n",
            "---------------\n",
            "---------------\n",
            "Solution using Inverse Method: [ 2.  1. -2.]\n",
            "---------------\n",
            "Solution using np.linalg.solve: [ 2.  1. -2.]\n"
          ]
        }
      ]
    },
    {
      "cell_type": "markdown",
      "source": [
        "# Experiment: How Fast is Numpy?"
      ],
      "metadata": {
        "id": "fHLGgGeh1WIf"
      }
    },
    {
      "cell_type": "code",
      "source": [
        "import time\n",
        "import numpy as np\n",
        "\n",
        "# Function to measure time taken for an operation\n",
        "def measure_time(func, *args):\n",
        "    start_time = time.time()\n",
        "    func(*args)\n",
        "    end_time = time.time()\n",
        "    return end_time - start_time\n",
        "\n",
        "# 1. Element-wise Addition\n",
        "def elementwise_addition_python(list1, list2):\n",
        "    return [a + b for a, b in zip(list1, list2)]\n",
        "\n",
        "def elementwise_addition_numpy(array1, array2):\n",
        "    return array1 + array2\n",
        "\n",
        "# 2. Element-wise Multiplication\n",
        "def elementwise_multiplication_python(list1, list2):\n",
        "    return [a * b for a, b in zip(list1, list2)]\n",
        "\n",
        "def elementwise_multiplication_numpy(array1, array2):\n",
        "    return array1 * array2\n",
        "\n",
        "# 3. Dot Product\n",
        "def dot_product_python(list1, list2):\n",
        "    return sum(a * b for a, b in zip(list1, list2))\n",
        "\n",
        "def dot_product_numpy(array1, array2):\n",
        "    return np.dot(array1, array2)\n",
        "\n",
        "# 4. Matrix Multiplication\n",
        "def matrix_multiplication_python(matrix1, matrix2):\n",
        "    result = [[sum(a * b for a, b in zip(row, col)) for col in zip(*matrix2)] for row in matrix1]\n",
        "    return result\n",
        "\n",
        "def matrix_multiplication_numpy(matrix1, matrix2):\n",
        "    return np.dot(matrix1, matrix2)\n",
        "\n",
        "# Initialize data\n",
        "size = 1000000\n",
        "list1 = list(range(size))\n",
        "list2 = list(range(size, 2 * size))\n",
        "array1 = np.arange(size)\n",
        "array2 = np.arange(size, 2 * size)\n",
        "\n",
        "matrix_size = 1000\n",
        "matrix1 = [[i + j for j in range(matrix_size)] for i in range(matrix_size)]\n",
        "matrix2 = [[i - j for j in range(matrix_size)] for i in range(matrix_size)]\n",
        "np_matrix1 = np.array(matrix1)\n",
        "np_matrix2 = np.array(matrix2)\n",
        "\n",
        "# Measure time for each operation\n",
        "print(\"1. Element-wise Addition:\")\n",
        "time_python_add = measure_time(elementwise_addition_python, list1, list2)\n",
        "time_numpy_add = measure_time(elementwise_addition_numpy, array1, array2)\n",
        "print(f\"Python Lists: {time_python_add:.6f} seconds\")\n",
        "print(f\"NumPy Arrays: {time_numpy_add:.6f} seconds\")\n",
        "\n",
        "print(\"\\n2. Element-wise Multiplication:\")\n",
        "time_python_mul = measure_time(elementwise_multiplication_python, list1, list2)\n",
        "time_numpy_mul = measure_time(elementwise_multiplication_numpy, array1, array2)\n",
        "print(f\"Python Lists: {time_python_mul:.6f} seconds\")\n",
        "print(f\"NumPy Arrays: {time_numpy_mul:.6f} seconds\")\n",
        "\n",
        "print(\"\\n3. Dot Product:\")\n",
        "time_python_dot = measure_time(dot_product_python, list1, list2)\n",
        "time_numpy_dot = measure_time(dot_product_numpy, array1, array2)\n",
        "print(f\"Python Lists: {time_python_dot:.6f} seconds\")\n",
        "print(f\"NumPy Arrays: {time_numpy_dot:.6f} seconds\")\n",
        "\n",
        "print(\"\\n4. Matrix Multiplication:\")\n",
        "time_python_matmul = measure_time(matrix_multiplication_python, matrix1, matrix2)\n",
        "time_numpy_matmul = measure_time(matrix_multiplication_numpy, np_matrix1, np_matrix2)\n",
        "print(f\"Python Lists: {time_python_matmul:.6f} seconds\")\n",
        "print(f\"NumPy Arrays: {time_numpy_matmul:.6f} seconds\")"
      ],
      "metadata": {
        "colab": {
          "base_uri": "https://localhost:8080/"
        },
        "id": "TpyYfxfy1aOj",
        "outputId": "1b474a72-940e-473b-f8fc-0d30a7ef44aa"
      },
      "execution_count": 22,
      "outputs": [
        {
          "output_type": "stream",
          "name": "stdout",
          "text": [
            "1. Element-wise Addition:\n",
            "Python Lists: 0.167933 seconds\n",
            "NumPy Arrays: 0.005007 seconds\n",
            "\n",
            "2. Element-wise Multiplication:\n",
            "Python Lists: 0.146243 seconds\n",
            "NumPy Arrays: 0.002354 seconds\n",
            "\n",
            "3. Dot Product:\n",
            "Python Lists: 0.162007 seconds\n",
            "NumPy Arrays: 0.001956 seconds\n",
            "\n",
            "4. Matrix Multiplication:\n",
            "Python Lists: 176.345942 seconds\n",
            "NumPy Arrays: 1.708262 seconds\n"
          ]
        }
      ]
    }
  ]
}